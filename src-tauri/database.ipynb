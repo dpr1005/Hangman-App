{
 "cells": [
  {
   "cell_type": "code",
   "execution_count": 1,
   "metadata": {},
   "outputs": [],
   "source": [
    "import sqlite3"
   ]
  },
  {
   "cell_type": "code",
   "execution_count": 2,
   "metadata": {},
   "outputs": [],
   "source": [
    "#Connecting to sqlite\n",
    "conn = sqlite3.connect('database.sqlite')"
   ]
  },
  {
   "cell_type": "code",
   "execution_count": 3,
   "metadata": {},
   "outputs": [],
   "source": [
    "#Creating a cursor object using the cursor() method\n",
    "cursor = conn.cursor()"
   ]
  },
  {
   "cell_type": "code",
   "execution_count": 4,
   "metadata": {},
   "outputs": [
    {
     "name": "stdout",
     "output_type": "stream",
     "text": [
      "Tables dropped...\n"
     ]
    }
   ],
   "source": [
    "#Dropping tables if already exist\n",
    "cursor.execute(\"DROP TABLE IF EXISTS words\")\n",
    "cursor.execute(\"DROP TABLE IF EXISTS types\")\n",
    "cursor.execute(\"DROP TABLE IF EXISTS languages\")\n",
    "print(\"Tables dropped...\")"
   ]
  },
  {
   "cell_type": "code",
   "execution_count": 5,
   "metadata": {},
   "outputs": [],
   "source": [
    "sql_create_languages_table = ''' CREATE TABLE IF NOT EXISTS languages (\n",
    "\tlanguage\tTEXT UNIQUE,\n",
    "\tPRIMARY KEY(language)\n",
    ")'''\n",
    "\n",
    "sql_create_types_table = ''' CREATE TABLE IF NOT EXISTS types (\n",
    "\ttype\tTEXT UNIQUE,\n",
    "\tPRIMARY KEY(type)\n",
    ")'''\n",
    "\n",
    "sql_create_words_table = ''' CREATE TABLE IF NOT EXISTS words (\n",
    "\tid\tINTEGER,\n",
    "\tword\tTEXT UNIQUE,\n",
    "\tlanguage\tTEXT NOT NULL,\n",
    "\ttype\tTEXT NOT NULL,\n",
    "\tgroup_\tTEXT NOT NULL DEFAULT general,\n",
    "\tsize\tINTEGER NOT NULL,\n",
    "\tPRIMARY KEY(id),\n",
    "\tFOREIGN KEY(language) REFERENCES languages(language),\n",
    "\tFOREIGN KEY(type) REFERENCES types(type)\n",
    ")'''"
   ]
  },
  {
   "cell_type": "code",
   "execution_count": 6,
   "metadata": {},
   "outputs": [
    {
     "data": {
      "text/plain": [
       "<sqlite3.Cursor at 0x7fdefb2ee5e0>"
      ]
     },
     "execution_count": 6,
     "metadata": {},
     "output_type": "execute_result"
    }
   ],
   "source": [
    "cursor.execute(sql_create_languages_table)\n",
    "cursor.execute(sql_create_types_table)\n",
    "cursor.execute(sql_create_words_table)"
   ]
  },
  {
   "cell_type": "code",
   "execution_count": 7,
   "metadata": {},
   "outputs": [],
   "source": [
    "types = [\"verb\", \"adverb\", \"noun\", \"pronoun\", \"adjective\"]\n",
    "for type in types:\n",
    "    cursor.execute(''' INSERT INTO types (type) VALUES (?) ''', (type,))"
   ]
  },
  {
   "cell_type": "code",
   "execution_count": 8,
   "metadata": {},
   "outputs": [
    {
     "data": {
      "text/plain": [
       "<sqlite3.Cursor at 0x7fdefb2ee5e0>"
      ]
     },
     "execution_count": 8,
     "metadata": {},
     "output_type": "execute_result"
    }
   ],
   "source": [
    "cursor.execute(''' INSERT INTO languages (language) VALUES (\"EN\") ''')"
   ]
  },
  {
   "cell_type": "code",
   "execution_count": 9,
   "metadata": {},
   "outputs": [],
   "source": [
    "words = [\n",
    "    [\"do\",\"say\",\"go\",\"get\",\"make\",\"know\",\"think\",\"take\",\"see\",\"come\",\"want\",\"look\",\"use\",\"find\",\"give\",\"tell\"],\n",
    "    [\"when\", \"now\", \"how\", \"also\", \"not\", \"as\", \"up\", \"here\", \"there\", \"so\", \"very\", \"immediately\",\"initially\",\"additionally\",\"nearby\",\"extremely\",\"greatly\"],\n",
    "    [\"time\",\"year\",\"people\",\"day\",\"man\",\"thing\",\"woman\",\"work\",\"child\",\"life\",\"world\",\"way\",\"back\"],\n",
    "    [\"I\",\"you\",\"your\",\"he\",\"she\",\"them\",\"their\",\"her\",\"him\",\"me\",\"my\",\"it\",\"its\",\"our\",\"these\",\"this\",\"that\",\"those\",\"who\",\"what\",\"which\"],\n",
    "    [\"acceptable\",\"competent\",\"satisfying\",\"efficient\",\"adept\",\"honest\",\"sound\"],\n",
    "]\n",
    "\n",
    "for words_, type_ in zip(words, types):\n",
    "    for word in words_:\n",
    "        cursor.execute('''INSERT INTO words (word, language, group_, type, size) VALUES (?,?,?,?,?)''', (word, \"EN\", \"general\", type_, len(word)))"
   ]
  },
  {
   "cell_type": "code",
   "execution_count": 10,
   "metadata": {},
   "outputs": [
    {
     "name": "stdout",
     "output_type": "stream",
     "text": [
      "Default records inserted...\n"
     ]
    }
   ],
   "source": [
    "# Commit your changes in the database\n",
    "conn.commit()\n",
    "print(\"Default records inserted...\")"
   ]
  },
  {
   "cell_type": "code",
   "execution_count": 11,
   "metadata": {},
   "outputs": [],
   "source": [
    "# House Vocabulary\n",
    "words = [\"attic\",\"basement\",\"bedroom\",\"bathroom\",\"cabinet\",\"ceiling\",\"chimney\",\"closet\",\"door\",\"floor\",\"garage\",\"hall\",\"kitchen\",\"laundry\",\"light\",\"living room\",\"mirror\",\"nightstand\",\"oven\",\"painting\",\"pantry\",\"piano\",\"pillow\",\"plumbing\",\"roof\",\"rug\",\"sink\",\"sofa\",\"stairs\",\"stereo\",\"table\",\"television\",\"toilet\",\"window\",\"yard\"]\n",
    "\n",
    "type_ = \"noun\"\n",
    "group_ = \"house\"\n",
    "\n",
    "for word in words:\n",
    "    cursor.execute('''INSERT INTO words (word, language, group_, type, size) VALUES (?,?,?,?,?)''', (word, \"EN\", group_, type_, len(word)))\n"
   ]
  },
  {
   "cell_type": "code",
   "execution_count": 12,
   "metadata": {},
   "outputs": [
    {
     "name": "stdout",
     "output_type": "stream",
     "text": [
      "Custom records inserted...\n"
     ]
    }
   ],
   "source": [
    "# Commit your changes in the database\n",
    "conn.commit()\n",
    "print(\"Custom records inserted...\")"
   ]
  },
  {
   "cell_type": "code",
   "execution_count": 13,
   "metadata": {},
   "outputs": [],
   "source": [
    "# Closing the connection\n",
    "conn.close()"
   ]
  }
 ],
 "metadata": {
  "interpreter": {
   "hash": "40d3a090f54c6569ab1632332b64b2c03c39dcf918b08424e98f38b5ae0af88f"
  },
  "kernelspec": {
   "display_name": "Python 3.8.8 ('base')",
   "language": "python",
   "name": "python3"
  },
  "language_info": {
   "codemirror_mode": {
    "name": "ipython",
    "version": 3
   },
   "file_extension": ".py",
   "mimetype": "text/x-python",
   "name": "python",
   "nbconvert_exporter": "python",
   "pygments_lexer": "ipython3",
   "version": "3.8.8"
  },
  "orig_nbformat": 4
 },
 "nbformat": 4,
 "nbformat_minor": 2
}
